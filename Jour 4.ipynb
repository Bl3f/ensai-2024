{
 "cells": [
  {
   "cell_type": "code",
   "execution_count": 8,
   "id": "075c6fc9",
   "metadata": {},
   "outputs": [],
   "source": [
    "import json\n",
    "import pandas as pd\n",
    "\n",
    "from google.oauth2 import service_account"
   ]
  },
  {
   "cell_type": "markdown",
   "id": "a03776a5",
   "metadata": {},
   "source": [
    "# Lire les données depuis BigQuery"
   ]
  },
  {
   "cell_type": "code",
   "execution_count": 9,
   "id": "0a1b7683",
   "metadata": {},
   "outputs": [],
   "source": [
    "with open(\"ensai-2024-630e074aa45c.json\") as source:\n",
    "    info = json.load(source)\n",
    "\n",
    "credentials = service_account.Credentials.from_service_account_info(info)\n",
    "\n",
    "prenoms = pd.read_gbq(\"ml.prenoms\", project_id=\"ensai-2024\", credentials=credentials)"
   ]
  },
  {
   "cell_type": "code",
   "execution_count": 10,
   "id": "bb782e81",
   "metadata": {},
   "outputs": [
    {
     "data": {
      "text/html": [
       "<div>\n",
       "<style scoped>\n",
       "    .dataframe tbody tr th:only-of-type {\n",
       "        vertical-align: middle;\n",
       "    }\n",
       "\n",
       "    .dataframe tbody tr th {\n",
       "        vertical-align: top;\n",
       "    }\n",
       "\n",
       "    .dataframe thead th {\n",
       "        text-align: right;\n",
       "    }\n",
       "</style>\n",
       "<table border=\"1\" class=\"dataframe\">\n",
       "  <thead>\n",
       "    <tr style=\"text-align: right;\">\n",
       "      <th></th>\n",
       "      <th>sexe</th>\n",
       "      <th>preusuel</th>\n",
       "      <th>annais</th>\n",
       "      <th>dpt</th>\n",
       "      <th>nombre</th>\n",
       "    </tr>\n",
       "  </thead>\n",
       "  <tbody>\n",
       "    <tr>\n",
       "      <th>0</th>\n",
       "      <td>1</td>\n",
       "      <td>_PRENOMS_RARES</td>\n",
       "      <td>1900</td>\n",
       "      <td>13</td>\n",
       "      <td>37</td>\n",
       "    </tr>\n",
       "    <tr>\n",
       "      <th>1</th>\n",
       "      <td>1</td>\n",
       "      <td>_PRENOMS_RARES</td>\n",
       "      <td>1900</td>\n",
       "      <td>57</td>\n",
       "      <td>37</td>\n",
       "    </tr>\n",
       "    <tr>\n",
       "      <th>2</th>\n",
       "      <td>1</td>\n",
       "      <td>_PRENOMS_RARES</td>\n",
       "      <td>1900</td>\n",
       "      <td>59</td>\n",
       "      <td>44</td>\n",
       "    </tr>\n",
       "    <tr>\n",
       "      <th>3</th>\n",
       "      <td>1</td>\n",
       "      <td>_PRENOMS_RARES</td>\n",
       "      <td>1900</td>\n",
       "      <td>62</td>\n",
       "      <td>34</td>\n",
       "    </tr>\n",
       "    <tr>\n",
       "      <th>4</th>\n",
       "      <td>1</td>\n",
       "      <td>_PRENOMS_RARES</td>\n",
       "      <td>1900</td>\n",
       "      <td>75</td>\n",
       "      <td>45</td>\n",
       "    </tr>\n",
       "  </tbody>\n",
       "</table>\n",
       "</div>"
      ],
      "text/plain": [
       "  sexe        preusuel annais dpt nombre\n",
       "0    1  _PRENOMS_RARES   1900  13     37\n",
       "1    1  _PRENOMS_RARES   1900  57     37\n",
       "2    1  _PRENOMS_RARES   1900  59     44\n",
       "3    1  _PRENOMS_RARES   1900  62     34\n",
       "4    1  _PRENOMS_RARES   1900  75     45"
      ]
     },
     "execution_count": 10,
     "metadata": {},
     "output_type": "execute_result"
    }
   ],
   "source": [
    "prenoms.head()"
   ]
  },
  {
   "cell_type": "markdown",
   "id": "6baff587",
   "metadata": {},
   "source": [
    "# Pre-processing\n",
    "\n",
    "1. Exclure les \"_PRENOMS_RARES\"\n",
    "2. Aggréger les \"annais\" et les \"dpt\" pour avoir la fréquence par preusuel\n",
    "3. Déterminer le genre d'un prénom (optionnel)"
   ]
  },
  {
   "cell_type": "code",
   "execution_count": 64,
   "id": "ccc4e717",
   "metadata": {},
   "outputs": [
    {
     "name": "stderr",
     "output_type": "stream",
     "text": [
      "/var/folders/rs/7bw0gmgj5hqfyg0fpk1d13t00000gn/T/ipykernel_62004/1676277426.py:3: SettingWithCopyWarning: \n",
      "A value is trying to be set on a copy of a slice from a DataFrame.\n",
      "Try using .loc[row_indexer,col_indexer] = value instead\n",
      "\n",
      "See the caveats in the documentation: https://pandas.pydata.org/pandas-docs/stable/user_guide/indexing.html#returning-a-view-versus-a-copy\n",
      "  preprocessing[\"nombre\"] = preprocessing[\"nombre\"].astype(int)\n"
     ]
    }
   ],
   "source": [
    "preprocessing = prenoms[prenoms[\"preusuel\"] != '_PRENOMS_RARES']\n",
    "preprocessing = prenoms[prenoms[\"preusuel\"].str.len() > 2]\n",
    "preprocessing[\"nombre\"] = preprocessing[\"nombre\"].astype(int)\n",
    "preprocessing = preprocessing.groupby([\"preusuel\", \"sexe\"]).agg({\"nombre\": sum}).reset_index()"
   ]
  },
  {
   "cell_type": "code",
   "execution_count": 68,
   "id": "c87d7af2",
   "metadata": {},
   "outputs": [
    {
     "data": {
      "text/html": [
       "<div>\n",
       "<style scoped>\n",
       "    .dataframe tbody tr th:only-of-type {\n",
       "        vertical-align: middle;\n",
       "    }\n",
       "\n",
       "    .dataframe tbody tr th {\n",
       "        vertical-align: top;\n",
       "    }\n",
       "\n",
       "    .dataframe thead th {\n",
       "        text-align: right;\n",
       "    }\n",
       "</style>\n",
       "<table border=\"1\" class=\"dataframe\">\n",
       "  <thead>\n",
       "    <tr style=\"text-align: right;\">\n",
       "      <th></th>\n",
       "      <th>preusuel</th>\n",
       "      <th>sexe</th>\n",
       "      <th>nombre</th>\n",
       "    </tr>\n",
       "  </thead>\n",
       "  <tbody>\n",
       "    <tr>\n",
       "      <th>0</th>\n",
       "      <td>AADAM</td>\n",
       "      <td>1</td>\n",
       "      <td>32</td>\n",
       "    </tr>\n",
       "    <tr>\n",
       "      <th>1</th>\n",
       "      <td>AADEL</td>\n",
       "      <td>1</td>\n",
       "      <td>57</td>\n",
       "    </tr>\n",
       "    <tr>\n",
       "      <th>2</th>\n",
       "      <td>AADHIRA</td>\n",
       "      <td>2</td>\n",
       "      <td>22</td>\n",
       "    </tr>\n",
       "    <tr>\n",
       "      <th>3</th>\n",
       "      <td>AADIL</td>\n",
       "      <td>1</td>\n",
       "      <td>190</td>\n",
       "    </tr>\n",
       "    <tr>\n",
       "      <th>4</th>\n",
       "      <td>AAHIL</td>\n",
       "      <td>1</td>\n",
       "      <td>28</td>\n",
       "    </tr>\n",
       "  </tbody>\n",
       "</table>\n",
       "</div>"
      ],
      "text/plain": [
       "  preusuel sexe  nombre\n",
       "0    AADAM    1      32\n",
       "1    AADEL    1      57\n",
       "2  AADHIRA    2      22\n",
       "3    AADIL    1     190\n",
       "4    AAHIL    1      28"
      ]
     },
     "execution_count": 68,
     "metadata": {},
     "output_type": "execute_result"
    }
   ],
   "source": [
    "preprocessing.head()"
   ]
  },
  {
   "cell_type": "code",
   "execution_count": 69,
   "id": "51186542",
   "metadata": {},
   "outputs": [],
   "source": [
    "data = (\n",
    "    preprocessing\n",
    "        .iloc[preprocessing.groupby(\"preusuel\")[\"nombre\"].idxmax()]\n",
    "        .drop([\"nombre\"], axis=1)\n",
    ")"
   ]
  },
  {
   "cell_type": "code",
   "execution_count": 70,
   "id": "8b8b4860",
   "metadata": {},
   "outputs": [
    {
     "data": {
      "text/html": [
       "<div>\n",
       "<style scoped>\n",
       "    .dataframe tbody tr th:only-of-type {\n",
       "        vertical-align: middle;\n",
       "    }\n",
       "\n",
       "    .dataframe tbody tr th {\n",
       "        vertical-align: top;\n",
       "    }\n",
       "\n",
       "    .dataframe thead th {\n",
       "        text-align: right;\n",
       "    }\n",
       "</style>\n",
       "<table border=\"1\" class=\"dataframe\">\n",
       "  <thead>\n",
       "    <tr style=\"text-align: right;\">\n",
       "      <th></th>\n",
       "      <th>preusuel</th>\n",
       "      <th>sexe</th>\n",
       "    </tr>\n",
       "  </thead>\n",
       "  <tbody>\n",
       "    <tr>\n",
       "      <th>0</th>\n",
       "      <td>AADAM</td>\n",
       "      <td>1</td>\n",
       "    </tr>\n",
       "    <tr>\n",
       "      <th>1</th>\n",
       "      <td>AADEL</td>\n",
       "      <td>1</td>\n",
       "    </tr>\n",
       "    <tr>\n",
       "      <th>2</th>\n",
       "      <td>AADHIRA</td>\n",
       "      <td>2</td>\n",
       "    </tr>\n",
       "    <tr>\n",
       "      <th>3</th>\n",
       "      <td>AADIL</td>\n",
       "      <td>1</td>\n",
       "    </tr>\n",
       "    <tr>\n",
       "      <th>4</th>\n",
       "      <td>AAHIL</td>\n",
       "      <td>1</td>\n",
       "    </tr>\n",
       "  </tbody>\n",
       "</table>\n",
       "</div>"
      ],
      "text/plain": [
       "  preusuel sexe\n",
       "0    AADAM    1\n",
       "1    AADEL    1\n",
       "2  AADHIRA    2\n",
       "3    AADIL    1\n",
       "4    AAHIL    1"
      ]
     },
     "execution_count": 70,
     "metadata": {},
     "output_type": "execute_result"
    }
   ],
   "source": [
    "data.head()"
   ]
  },
  {
   "cell_type": "markdown",
   "id": "3aa5c0f8",
   "metadata": {},
   "source": [
    "# Feature engineering\n",
    "\n",
    "1. Encoder les prénoms dans un vecteur d'apparition des lettres (appelé X)\n",
    "2. a -> 1, b -> 2, c -> 3 etc.\n",
    "3. on fait quoi avec les - ? et les accents ? et les majuscules ?"
   ]
  },
  {
   "cell_type": "code",
   "execution_count": 86,
   "id": "df7d5b1c",
   "metadata": {},
   "outputs": [],
   "source": [
    "def encode_prenom(prenom: str) -> pd.Series:\n",
    "    \"\"\"\n",
    "        This function encode a given name into a pd.Series.\n",
    "        \n",
    "        For instance alain is encoded [1, 0, 0, 0, 0 ... 1, 0 ...].\n",
    "    \"\"\"\n",
    "    alphabet = \"abcdefghijklmnopqrstuvwxyzé-'\"\n",
    "    prenom = prenom.lower()\n",
    "    \n",
    "    return pd.Series([letter in prenom for letter in alphabet]).astype(int)\n",
    "\n",
    "X = data[\"preusuel\"].apply(encode_prenom)\n",
    "#encode_prenom(\"Christophe\")"
   ]
  },
  {
   "cell_type": "code",
   "execution_count": 91,
   "id": "9c4e9616",
   "metadata": {},
   "outputs": [],
   "source": [
    "X\n",
    "Y = (data[\"sexe\"].astype(int) - 1)"
   ]
  },
  {
   "cell_type": "code",
   "execution_count": 92,
   "id": "edc58b47",
   "metadata": {},
   "outputs": [
    {
     "data": {
      "text/plain": [
       "(   0   1   2   3   4   5   6   7   8   9   ...  19  20  21  22  23  24  25  \\\n",
       " 0   1   0   0   1   0   0   0   0   0   0  ...   0   0   0   0   0   0   0   \n",
       " 1   1   0   0   1   1   0   0   0   0   0  ...   0   0   0   0   0   0   0   \n",
       " 2   1   0   0   1   0   0   0   1   1   0  ...   0   0   0   0   0   0   0   \n",
       " 3   1   0   0   1   0   0   0   0   1   0  ...   0   0   0   0   0   0   0   \n",
       " 4   1   0   0   0   0   0   0   1   1   0  ...   0   0   0   0   0   0   0   \n",
       " \n",
       "    26  27  28  \n",
       " 0   0   0   0  \n",
       " 1   0   0   0  \n",
       " 2   0   0   0  \n",
       " 3   0   0   0  \n",
       " 4   0   0   0  \n",
       " \n",
       " [5 rows x 29 columns],\n",
       " 0    0\n",
       " 1    0\n",
       " 2    1\n",
       " 3    0\n",
       " 4    0\n",
       " Name: sexe, dtype: int64)"
      ]
     },
     "execution_count": 92,
     "metadata": {},
     "output_type": "execute_result"
    }
   ],
   "source": [
    "X.head(), Y.head()"
   ]
  },
  {
   "cell_type": "code",
   "execution_count": null,
   "id": "c2c0f534",
   "metadata": {},
   "outputs": [],
   "source": []
  }
 ],
 "metadata": {
  "kernelspec": {
   "display_name": "Python 3 (ipykernel)",
   "language": "python",
   "name": "python3"
  },
  "language_info": {
   "codemirror_mode": {
    "name": "ipython",
    "version": 3
   },
   "file_extension": ".py",
   "mimetype": "text/x-python",
   "name": "python",
   "nbconvert_exporter": "python",
   "pygments_lexer": "ipython3",
   "version": "3.10.13"
  }
 },
 "nbformat": 4,
 "nbformat_minor": 5
}
